{
 "cells": [
  {
   "cell_type": "markdown",
   "id": "4864bbf4",
   "metadata": {},
   "source": [
    "# Passangger Analysis\n",
    "\n",
    "### Data yang digunakan adalah Data penumpang Transjakarta selama tahun 2021 yang diambil dari situs Jakarta Open Data\n"
   ]
  },
  {
   "cell_type": "code",
   "execution_count": 2,
   "id": "a7ce7d0f",
   "metadata": {},
   "outputs": [],
   "source": [
    "import pandas as pd\n",
    "import matplotlib.pyplot as plt\n",
    "import os"
   ]
  },
  {
   "cell_type": "markdown",
   "id": "f4788ba7",
   "metadata": {},
   "source": [
    "#### Karena datanya terpisah tiap bulan maka data digabung terlebih dahulu"
   ]
  },
  {
   "cell_type": "code",
   "execution_count": 3,
   "id": "edbb37d8",
   "metadata": {},
   "outputs": [],
   "source": [
    "data = pd.read_csv(\"./data penumpang tj 2021/data-penumpang-bus-transjakarta-januari-2021.csv\")\n",
    "\n",
    "files = [file for file in os.listdir(\"./data penumpang tj 2021\")]\n",
    "\n",
    "all_data = pd.DataFrame()\n",
    "\n",
    "for file in files:\n",
    "    data = pd.read_csv(\"./data penumpang tj 2021/\"+file)\n",
    "    all_data = pd.concat(([all_data, data]))"
   ]
  },
  {
   "cell_type": "markdown",
   "id": "fc263718",
   "metadata": {},
   "source": [
    "#### Data Understanding"
   ]
  },
  {
   "cell_type": "code",
   "execution_count": 3,
   "id": "a26d5ca6",
   "metadata": {},
   "outputs": [
    {
     "data": {
      "text/html": [
       "<div>\n",
       "<style scoped>\n",
       "    .dataframe tbody tr th:only-of-type {\n",
       "        vertical-align: middle;\n",
       "    }\n",
       "\n",
       "    .dataframe tbody tr th {\n",
       "        vertical-align: top;\n",
       "    }\n",
       "\n",
       "    .dataframe thead th {\n",
       "        text-align: right;\n",
       "    }\n",
       "</style>\n",
       "<table border=\"1\" class=\"dataframe\">\n",
       "  <thead>\n",
       "    <tr style=\"text-align: right;\">\n",
       "      <th></th>\n",
       "      <th>tahun</th>\n",
       "      <th>bulan</th>\n",
       "      <th>jenis</th>\n",
       "      <th>kode_trayek</th>\n",
       "      <th>trayek</th>\n",
       "      <th>jumlah_penumpang</th>\n",
       "    </tr>\n",
       "  </thead>\n",
       "  <tbody>\n",
       "    <tr>\n",
       "      <th>5</th>\n",
       "      <td>2021</td>\n",
       "      <td>6</td>\n",
       "      <td>Mikrotrans</td>\n",
       "      <td>JAK.75</td>\n",
       "      <td>Cililitan - Kp. Pulo</td>\n",
       "      <td>49284</td>\n",
       "    </tr>\n",
       "    <tr>\n",
       "      <th>104</th>\n",
       "      <td>2021</td>\n",
       "      <td>1</td>\n",
       "      <td>Angkutan Umum Integrasi</td>\n",
       "      <td>3E</td>\n",
       "      <td>Puri Kembangan - Sentraland Cengkareng</td>\n",
       "      <td>24385</td>\n",
       "    </tr>\n",
       "    <tr>\n",
       "      <th>34</th>\n",
       "      <td>2021</td>\n",
       "      <td>12</td>\n",
       "      <td>Mikrotrans</td>\n",
       "      <td>JAK.35</td>\n",
       "      <td>Pangkalan  Jati - Rawamangun</td>\n",
       "      <td>37850</td>\n",
       "    </tr>\n",
       "    <tr>\n",
       "      <th>49</th>\n",
       "      <td>2021</td>\n",
       "      <td>9</td>\n",
       "      <td>Mikrotrans</td>\n",
       "      <td>JAK,19</td>\n",
       "      <td>Pinang Ranti - Kampung Rambutan</td>\n",
       "      <td>80525</td>\n",
       "    </tr>\n",
       "    <tr>\n",
       "      <th>88</th>\n",
       "      <td>2021</td>\n",
       "      <td>2</td>\n",
       "      <td>Angkutan Umum Integrasi</td>\n",
       "      <td>8D</td>\n",
       "      <td>Joglo - Blok M</td>\n",
       "      <td>28516</td>\n",
       "    </tr>\n",
       "    <tr>\n",
       "      <th>48</th>\n",
       "      <td>2021</td>\n",
       "      <td>4</td>\n",
       "      <td>Mikrotrans</td>\n",
       "      <td>JAK.20</td>\n",
       "      <td>Cawang UKI - Lubang Buaya</td>\n",
       "      <td>67887</td>\n",
       "    </tr>\n",
       "    <tr>\n",
       "      <th>113</th>\n",
       "      <td>2021</td>\n",
       "      <td>6</td>\n",
       "      <td>Angkutan Umum Integrasi</td>\n",
       "      <td>1C</td>\n",
       "      <td>Pesanggrahan - Blok M</td>\n",
       "      <td>14938</td>\n",
       "    </tr>\n",
       "    <tr>\n",
       "      <th>18</th>\n",
       "      <td>2021</td>\n",
       "      <td>11</td>\n",
       "      <td>Mikrotrans</td>\n",
       "      <td>JAK.52</td>\n",
       "      <td>Kalideres - Muara Angke</td>\n",
       "      <td>79531</td>\n",
       "    </tr>\n",
       "    <tr>\n",
       "      <th>104</th>\n",
       "      <td>2021</td>\n",
       "      <td>3</td>\n",
       "      <td>Angkutan Umum Integrasi</td>\n",
       "      <td>4F</td>\n",
       "      <td>Pinang Ranti - Pulo Gadung</td>\n",
       "      <td>41635</td>\n",
       "    </tr>\n",
       "    <tr>\n",
       "      <th>36</th>\n",
       "      <td>2021</td>\n",
       "      <td>2</td>\n",
       "      <td>Mikrotrans</td>\n",
       "      <td>JAK.33</td>\n",
       "      <td>Pulo Gadung - Kota</td>\n",
       "      <td>47276</td>\n",
       "    </tr>\n",
       "  </tbody>\n",
       "</table>\n",
       "</div>"
      ],
      "text/plain": [
       "     tahun  bulan                    jenis kode_trayek   \n",
       "5     2021      6               Mikrotrans      JAK.75  \\\n",
       "104   2021      1  Angkutan Umum Integrasi          3E   \n",
       "34    2021     12               Mikrotrans      JAK.35   \n",
       "49    2021      9               Mikrotrans      JAK,19   \n",
       "88    2021      2  Angkutan Umum Integrasi          8D   \n",
       "48    2021      4               Mikrotrans      JAK.20   \n",
       "113   2021      6  Angkutan Umum Integrasi          1C   \n",
       "18    2021     11               Mikrotrans      JAK.52   \n",
       "104   2021      3  Angkutan Umum Integrasi          4F   \n",
       "36    2021      2               Mikrotrans      JAK.33   \n",
       "\n",
       "                                     trayek  jumlah_penumpang  \n",
       "5                      Cililitan - Kp. Pulo             49284  \n",
       "104  Puri Kembangan - Sentraland Cengkareng             24385  \n",
       "34             Pangkalan  Jati - Rawamangun             37850  \n",
       "49          Pinang Ranti - Kampung Rambutan             80525  \n",
       "88                           Joglo - Blok M             28516  \n",
       "48                Cawang UKI - Lubang Buaya             67887  \n",
       "113                   Pesanggrahan - Blok M             14938  \n",
       "18                  Kalideres - Muara Angke             79531  \n",
       "104              Pinang Ranti - Pulo Gadung             41635  \n",
       "36                       Pulo Gadung - Kota             47276  "
      ]
     },
     "execution_count": 3,
     "metadata": {},
     "output_type": "execute_result"
    }
   ],
   "source": [
    "all_data.sample(10)"
   ]
  },
  {
   "cell_type": "code",
   "execution_count": 4,
   "id": "cc2eb628",
   "metadata": {},
   "outputs": [
    {
     "name": "stdout",
     "output_type": "stream",
     "text": [
      "<class 'pandas.core.frame.DataFrame'>\n",
      "Index: 1473 entries, 0 to 121\n",
      "Data columns (total 6 columns):\n",
      " #   Column            Non-Null Count  Dtype \n",
      "---  ------            --------------  ----- \n",
      " 0   tahun             1473 non-null   int64 \n",
      " 1   bulan             1473 non-null   int64 \n",
      " 2   jenis             1473 non-null   object\n",
      " 3   kode_trayek       1473 non-null   object\n",
      " 4   trayek            1471 non-null   object\n",
      " 5   jumlah_penumpang  1473 non-null   int64 \n",
      "dtypes: int64(3), object(3)\n",
      "memory usage: 80.6+ KB\n"
     ]
    }
   ],
   "source": [
    "all_data.info()"
   ]
  },
  {
   "cell_type": "markdown",
   "id": "276ba61c",
   "metadata": {},
   "source": [
    "#### Memeriksa apakah datanya terdapat duplicated dan missing value"
   ]
  },
  {
   "cell_type": "code",
   "execution_count": 5,
   "id": "84feb1c7",
   "metadata": {},
   "outputs": [
    {
     "data": {
      "text/html": [
       "<div>\n",
       "<style scoped>\n",
       "    .dataframe tbody tr th:only-of-type {\n",
       "        vertical-align: middle;\n",
       "    }\n",
       "\n",
       "    .dataframe tbody tr th {\n",
       "        vertical-align: top;\n",
       "    }\n",
       "\n",
       "    .dataframe thead th {\n",
       "        text-align: right;\n",
       "    }\n",
       "</style>\n",
       "<table border=\"1\" class=\"dataframe\">\n",
       "  <thead>\n",
       "    <tr style=\"text-align: right;\">\n",
       "      <th></th>\n",
       "      <th>tahun</th>\n",
       "      <th>bulan</th>\n",
       "      <th>jenis</th>\n",
       "      <th>kode_trayek</th>\n",
       "      <th>trayek</th>\n",
       "      <th>jumlah_penumpang</th>\n",
       "    </tr>\n",
       "  </thead>\n",
       "  <tbody>\n",
       "  </tbody>\n",
       "</table>\n",
       "</div>"
      ],
      "text/plain": [
       "Empty DataFrame\n",
       "Columns: [tahun, bulan, jenis, kode_trayek, trayek, jumlah_penumpang]\n",
       "Index: []"
      ]
     },
     "execution_count": 5,
     "metadata": {},
     "output_type": "execute_result"
    }
   ],
   "source": [
    "all_data[all_data.duplicated() == True]"
   ]
  },
  {
   "cell_type": "code",
   "execution_count": 6,
   "id": "e3c107fe",
   "metadata": {},
   "outputs": [
    {
     "data": {
      "text/html": [
       "<div>\n",
       "<style scoped>\n",
       "    .dataframe tbody tr th:only-of-type {\n",
       "        vertical-align: middle;\n",
       "    }\n",
       "\n",
       "    .dataframe tbody tr th {\n",
       "        vertical-align: top;\n",
       "    }\n",
       "\n",
       "    .dataframe thead th {\n",
       "        text-align: right;\n",
       "    }\n",
       "</style>\n",
       "<table border=\"1\" class=\"dataframe\">\n",
       "  <thead>\n",
       "    <tr style=\"text-align: right;\">\n",
       "      <th></th>\n",
       "      <th>tahun</th>\n",
       "      <th>bulan</th>\n",
       "      <th>jenis</th>\n",
       "      <th>kode_trayek</th>\n",
       "      <th>trayek</th>\n",
       "      <th>jumlah_penumpang</th>\n",
       "    </tr>\n",
       "  </thead>\n",
       "  <tbody>\n",
       "    <tr>\n",
       "      <th>0</th>\n",
       "      <td>NaN</td>\n",
       "      <td>NaN</td>\n",
       "      <td>NaN</td>\n",
       "      <td>NaN</td>\n",
       "      <td>NaN</td>\n",
       "      <td>NaN</td>\n",
       "    </tr>\n",
       "    <tr>\n",
       "      <th>1</th>\n",
       "      <td>NaN</td>\n",
       "      <td>NaN</td>\n",
       "      <td>NaN</td>\n",
       "      <td>NaN</td>\n",
       "      <td>NaN</td>\n",
       "      <td>NaN</td>\n",
       "    </tr>\n",
       "    <tr>\n",
       "      <th>2</th>\n",
       "      <td>NaN</td>\n",
       "      <td>NaN</td>\n",
       "      <td>NaN</td>\n",
       "      <td>NaN</td>\n",
       "      <td>NaN</td>\n",
       "      <td>NaN</td>\n",
       "    </tr>\n",
       "    <tr>\n",
       "      <th>3</th>\n",
       "      <td>NaN</td>\n",
       "      <td>NaN</td>\n",
       "      <td>NaN</td>\n",
       "      <td>NaN</td>\n",
       "      <td>NaN</td>\n",
       "      <td>NaN</td>\n",
       "    </tr>\n",
       "    <tr>\n",
       "      <th>4</th>\n",
       "      <td>NaN</td>\n",
       "      <td>NaN</td>\n",
       "      <td>NaN</td>\n",
       "      <td>NaN</td>\n",
       "      <td>NaN</td>\n",
       "      <td>NaN</td>\n",
       "    </tr>\n",
       "    <tr>\n",
       "      <th>...</th>\n",
       "      <td>...</td>\n",
       "      <td>...</td>\n",
       "      <td>...</td>\n",
       "      <td>...</td>\n",
       "      <td>...</td>\n",
       "      <td>...</td>\n",
       "    </tr>\n",
       "    <tr>\n",
       "      <th>117</th>\n",
       "      <td>NaN</td>\n",
       "      <td>NaN</td>\n",
       "      <td>NaN</td>\n",
       "      <td>NaN</td>\n",
       "      <td>NaN</td>\n",
       "      <td>NaN</td>\n",
       "    </tr>\n",
       "    <tr>\n",
       "      <th>118</th>\n",
       "      <td>NaN</td>\n",
       "      <td>NaN</td>\n",
       "      <td>NaN</td>\n",
       "      <td>NaN</td>\n",
       "      <td>NaN</td>\n",
       "      <td>NaN</td>\n",
       "    </tr>\n",
       "    <tr>\n",
       "      <th>119</th>\n",
       "      <td>NaN</td>\n",
       "      <td>NaN</td>\n",
       "      <td>NaN</td>\n",
       "      <td>NaN</td>\n",
       "      <td>NaN</td>\n",
       "      <td>NaN</td>\n",
       "    </tr>\n",
       "    <tr>\n",
       "      <th>120</th>\n",
       "      <td>NaN</td>\n",
       "      <td>NaN</td>\n",
       "      <td>NaN</td>\n",
       "      <td>NaN</td>\n",
       "      <td>NaN</td>\n",
       "      <td>NaN</td>\n",
       "    </tr>\n",
       "    <tr>\n",
       "      <th>121</th>\n",
       "      <td>NaN</td>\n",
       "      <td>NaN</td>\n",
       "      <td>NaN</td>\n",
       "      <td>NaN</td>\n",
       "      <td>NaN</td>\n",
       "      <td>NaN</td>\n",
       "    </tr>\n",
       "  </tbody>\n",
       "</table>\n",
       "<p>1473 rows × 6 columns</p>\n",
       "</div>"
      ],
      "text/plain": [
       "     tahun  bulan jenis kode_trayek trayek  jumlah_penumpang\n",
       "0      NaN    NaN   NaN         NaN    NaN               NaN\n",
       "1      NaN    NaN   NaN         NaN    NaN               NaN\n",
       "2      NaN    NaN   NaN         NaN    NaN               NaN\n",
       "3      NaN    NaN   NaN         NaN    NaN               NaN\n",
       "4      NaN    NaN   NaN         NaN    NaN               NaN\n",
       "..     ...    ...   ...         ...    ...               ...\n",
       "117    NaN    NaN   NaN         NaN    NaN               NaN\n",
       "118    NaN    NaN   NaN         NaN    NaN               NaN\n",
       "119    NaN    NaN   NaN         NaN    NaN               NaN\n",
       "120    NaN    NaN   NaN         NaN    NaN               NaN\n",
       "121    NaN    NaN   NaN         NaN    NaN               NaN\n",
       "\n",
       "[1473 rows x 6 columns]"
      ]
     },
     "execution_count": 6,
     "metadata": {},
     "output_type": "execute_result"
    }
   ],
   "source": [
    "all_data[all_data.isna() == True]"
   ]
  },
  {
   "cell_type": "code",
   "execution_count": 7,
   "id": "33065152",
   "metadata": {
    "scrolled": false
   },
   "outputs": [
    {
     "data": {
      "text/html": [
       "<div>\n",
       "<style scoped>\n",
       "    .dataframe tbody tr th:only-of-type {\n",
       "        vertical-align: middle;\n",
       "    }\n",
       "\n",
       "    .dataframe tbody tr th {\n",
       "        vertical-align: top;\n",
       "    }\n",
       "\n",
       "    .dataframe thead th {\n",
       "        text-align: right;\n",
       "    }\n",
       "</style>\n",
       "<table border=\"1\" class=\"dataframe\">\n",
       "  <thead>\n",
       "    <tr style=\"text-align: right;\">\n",
       "      <th></th>\n",
       "      <th>tahun</th>\n",
       "      <th>bulan</th>\n",
       "      <th>jenis</th>\n",
       "      <th>kode_trayek</th>\n",
       "      <th>trayek</th>\n",
       "      <th>jumlah_penumpang</th>\n",
       "    </tr>\n",
       "  </thead>\n",
       "  <tbody>\n",
       "    <tr>\n",
       "      <th>74</th>\n",
       "      <td>2021</td>\n",
       "      <td>8</td>\n",
       "      <td>BRT</td>\n",
       "      <td>5</td>\n",
       "      <td>Kampung Melayu - Ancol</td>\n",
       "      <td>228704</td>\n",
       "    </tr>\n",
       "    <tr>\n",
       "      <th>62</th>\n",
       "      <td>2021</td>\n",
       "      <td>12</td>\n",
       "      <td>Mikrotrans</td>\n",
       "      <td>JAK.10</td>\n",
       "      <td>Tanah Abang - Kota</td>\n",
       "      <td>62581</td>\n",
       "    </tr>\n",
       "    <tr>\n",
       "      <th>53</th>\n",
       "      <td>2021</td>\n",
       "      <td>6</td>\n",
       "      <td>Mikrotrans</td>\n",
       "      <td>JAK.15</td>\n",
       "      <td>Bulak Turi - Tanjung Priok</td>\n",
       "      <td>131981</td>\n",
       "    </tr>\n",
       "    <tr>\n",
       "      <th>97</th>\n",
       "      <td>2021</td>\n",
       "      <td>7</td>\n",
       "      <td>Angkutan Umum Integrasi</td>\n",
       "      <td>6N</td>\n",
       "      <td>Ragunan - Blok M via Kemang</td>\n",
       "      <td>12623</td>\n",
       "    </tr>\n",
       "    <tr>\n",
       "      <th>88</th>\n",
       "      <td>2021</td>\n",
       "      <td>5</td>\n",
       "      <td>Angkutan Umum Integrasi</td>\n",
       "      <td>8D</td>\n",
       "      <td>Joglo - Blok M</td>\n",
       "      <td>27926</td>\n",
       "    </tr>\n",
       "    <tr>\n",
       "      <th>39</th>\n",
       "      <td>2021</td>\n",
       "      <td>10</td>\n",
       "      <td>Mikrotrans</td>\n",
       "      <td>JAK.30</td>\n",
       "      <td>Grogol - Meruya via Roxy</td>\n",
       "      <td>133054</td>\n",
       "    </tr>\n",
       "    <tr>\n",
       "      <th>34</th>\n",
       "      <td>2021</td>\n",
       "      <td>6</td>\n",
       "      <td>Mikrotrans</td>\n",
       "      <td>JAK.35</td>\n",
       "      <td>Pangkalan  Jati - Rawamangun</td>\n",
       "      <td>36012</td>\n",
       "    </tr>\n",
       "    <tr>\n",
       "      <th>1</th>\n",
       "      <td>2021</td>\n",
       "      <td>5</td>\n",
       "      <td>Mikrotrans</td>\n",
       "      <td>JAK.85</td>\n",
       "      <td>Bintara - Cipinang Indah</td>\n",
       "      <td>28069</td>\n",
       "    </tr>\n",
       "    <tr>\n",
       "      <th>20</th>\n",
       "      <td>2021</td>\n",
       "      <td>5</td>\n",
       "      <td>Mikrotrans</td>\n",
       "      <td>JAK.50</td>\n",
       "      <td>Kalideres - Puri Kembangan</td>\n",
       "      <td>67209</td>\n",
       "    </tr>\n",
       "    <tr>\n",
       "      <th>105</th>\n",
       "      <td>2021</td>\n",
       "      <td>11</td>\n",
       "      <td>Angkutan Umum Integrasi</td>\n",
       "      <td>4F</td>\n",
       "      <td>Pinang Ranti - Pulo Gadung</td>\n",
       "      <td>43945</td>\n",
       "    </tr>\n",
       "    <tr>\n",
       "      <th>109</th>\n",
       "      <td>2021</td>\n",
       "      <td>11</td>\n",
       "      <td>Angkutan Umum Integrasi</td>\n",
       "      <td>2Q</td>\n",
       "      <td>Gondangdia - Balai Kota</td>\n",
       "      <td>11567</td>\n",
       "    </tr>\n",
       "    <tr>\n",
       "      <th>61</th>\n",
       "      <td>2021</td>\n",
       "      <td>9</td>\n",
       "      <td>Mikrotrans</td>\n",
       "      <td>JAK.09</td>\n",
       "      <td>Roxy Mas - Karet</td>\n",
       "      <td>20117</td>\n",
       "    </tr>\n",
       "    <tr>\n",
       "      <th>18</th>\n",
       "      <td>2021</td>\n",
       "      <td>10</td>\n",
       "      <td>Mikrotrans</td>\n",
       "      <td>JAK.52</td>\n",
       "      <td>Kalideres - Muara Angke</td>\n",
       "      <td>65266</td>\n",
       "    </tr>\n",
       "    <tr>\n",
       "      <th>17</th>\n",
       "      <td>2021</td>\n",
       "      <td>9</td>\n",
       "      <td>Mikrotrans</td>\n",
       "      <td>JAK.53</td>\n",
       "      <td>Grogol - Pos Pengumben via Slipi</td>\n",
       "      <td>33250</td>\n",
       "    </tr>\n",
       "    <tr>\n",
       "      <th>98</th>\n",
       "      <td>2021</td>\n",
       "      <td>3</td>\n",
       "      <td>Angkutan Umum Integrasi</td>\n",
       "      <td>6M</td>\n",
       "      <td>Stasiun Manggarai - Blok  M</td>\n",
       "      <td>24251</td>\n",
       "    </tr>\n",
       "    <tr>\n",
       "      <th>17</th>\n",
       "      <td>2021</td>\n",
       "      <td>12</td>\n",
       "      <td>Mikrotrans</td>\n",
       "      <td>JAK.53</td>\n",
       "      <td>Grogol - Pos Pengumben via Slipi</td>\n",
       "      <td>68275</td>\n",
       "    </tr>\n",
       "    <tr>\n",
       "      <th>37</th>\n",
       "      <td>2021</td>\n",
       "      <td>10</td>\n",
       "      <td>Mikrotrans</td>\n",
       "      <td>JAK.32</td>\n",
       "      <td>Lebak Bulus - Petukangan</td>\n",
       "      <td>79962</td>\n",
       "    </tr>\n",
       "    <tr>\n",
       "      <th>34</th>\n",
       "      <td>2021</td>\n",
       "      <td>11</td>\n",
       "      <td>Mikrotrans</td>\n",
       "      <td>JAK.35</td>\n",
       "      <td>Pangkalan  Jati - Rawamangun</td>\n",
       "      <td>34484</td>\n",
       "    </tr>\n",
       "    <tr>\n",
       "      <th>5</th>\n",
       "      <td>2021</td>\n",
       "      <td>5</td>\n",
       "      <td>Mikrotrans</td>\n",
       "      <td>JAK.75</td>\n",
       "      <td>Cililitan - Kp. Pulo</td>\n",
       "      <td>46434</td>\n",
       "    </tr>\n",
       "    <tr>\n",
       "      <th>77</th>\n",
       "      <td>2021</td>\n",
       "      <td>5</td>\n",
       "      <td>BRT</td>\n",
       "      <td>2</td>\n",
       "      <td>Pulo Gadung 1 - Harmoni</td>\n",
       "      <td>358525</td>\n",
       "    </tr>\n",
       "  </tbody>\n",
       "</table>\n",
       "</div>"
      ],
      "text/plain": [
       "     tahun  bulan                    jenis kode_trayek   \n",
       "74    2021      8                      BRT           5  \\\n",
       "62    2021     12               Mikrotrans      JAK.10   \n",
       "53    2021      6               Mikrotrans      JAK.15   \n",
       "97    2021      7  Angkutan Umum Integrasi          6N   \n",
       "88    2021      5  Angkutan Umum Integrasi          8D   \n",
       "39    2021     10               Mikrotrans      JAK.30   \n",
       "34    2021      6               Mikrotrans      JAK.35   \n",
       "1     2021      5               Mikrotrans      JAK.85   \n",
       "20    2021      5               Mikrotrans      JAK.50   \n",
       "105   2021     11  Angkutan Umum Integrasi          4F   \n",
       "109   2021     11  Angkutan Umum Integrasi          2Q   \n",
       "61    2021      9               Mikrotrans      JAK.09   \n",
       "18    2021     10               Mikrotrans      JAK.52   \n",
       "17    2021      9               Mikrotrans      JAK.53   \n",
       "98    2021      3  Angkutan Umum Integrasi          6M   \n",
       "17    2021     12               Mikrotrans      JAK.53   \n",
       "37    2021     10               Mikrotrans      JAK.32   \n",
       "34    2021     11               Mikrotrans      JAK.35   \n",
       "5     2021      5               Mikrotrans      JAK.75   \n",
       "77    2021      5                      BRT           2   \n",
       "\n",
       "                               trayek  jumlah_penumpang  \n",
       "74             Kampung Melayu - Ancol            228704  \n",
       "62                Tanah Abang - Kota              62581  \n",
       "53         Bulak Turi - Tanjung Priok            131981  \n",
       "97        Ragunan - Blok M via Kemang             12623  \n",
       "88                     Joglo - Blok M             27926  \n",
       "39           Grogol - Meruya via Roxy            133054  \n",
       "34       Pangkalan  Jati - Rawamangun             36012  \n",
       "1            Bintara - Cipinang Indah             28069  \n",
       "20         Kalideres - Puri Kembangan             67209  \n",
       "105        Pinang Ranti - Pulo Gadung             43945  \n",
       "109           Gondangdia - Balai Kota             11567  \n",
       "61                   Roxy Mas - Karet             20117  \n",
       "18            Kalideres - Muara Angke             65266  \n",
       "17   Grogol - Pos Pengumben via Slipi             33250  \n",
       "98        Stasiun Manggarai - Blok  M             24251  \n",
       "17   Grogol - Pos Pengumben via Slipi             68275  \n",
       "37           Lebak Bulus - Petukangan             79962  \n",
       "34       Pangkalan  Jati - Rawamangun             34484  \n",
       "5                Cililitan - Kp. Pulo             46434  \n",
       "77            Pulo Gadung 1 - Harmoni            358525  "
      ]
     },
     "execution_count": 7,
     "metadata": {},
     "output_type": "execute_result"
    }
   ],
   "source": [
    "all_data.sample(20)"
   ]
  },
  {
   "cell_type": "markdown",
   "id": "96034f99",
   "metadata": {},
   "source": [
    "### Analysis"
   ]
  },
  {
   "cell_type": "code",
   "execution_count": 43,
   "id": "c8e57da9",
   "metadata": {},
   "outputs": [
    {
     "data": {
      "text/plain": [
       "count    1.473000e+03\n",
       "mean     8.167586e+04\n",
       "std      1.265331e+05\n",
       "min      0.000000e+00\n",
       "25%      2.501600e+04\n",
       "50%      4.962800e+04\n",
       "75%      7.513800e+04\n",
       "max      1.131439e+06\n",
       "Name: jumlah_penumpang, dtype: float64"
      ]
     },
     "execution_count": 43,
     "metadata": {},
     "output_type": "execute_result"
    }
   ],
   "source": [
    "all_data.describe()['jumlah_penumpang']"
   ]
  },
  {
   "cell_type": "code",
   "execution_count": 8,
   "id": "864af393",
   "metadata": {},
   "outputs": [
    {
     "name": "stdout",
     "output_type": "stream",
     "text": [
      "Jumlah penumpang = 120308547\n"
     ]
    }
   ],
   "source": [
    "print(\"Jumlah penumpang =\", all_data['jumlah_penumpang'].sum())"
   ]
  },
  {
   "cell_type": "code",
   "execution_count": 13,
   "id": "341caf4c",
   "metadata": {},
   "outputs": [
    {
     "data": {
      "text/plain": [
       "10025712.25"
      ]
     },
     "execution_count": 13,
     "metadata": {},
     "output_type": "execute_result"
    }
   ],
   "source": [
    "rata_penumpang_tiap_bulan = 120308547 / 12\n",
    "rata_penumpang_tiap_bulan"
   ]
  },
  {
   "cell_type": "code",
   "execution_count": 9,
   "id": "b9b8dd92",
   "metadata": {},
   "outputs": [
    {
     "name": "stdout",
     "output_type": "stream",
     "text": [
      "Banyaknya rute = 135\n"
     ]
    }
   ],
   "source": [
    "print(\"Banyaknya rute =\" ,len(all_data['kode_trayek'].unique()))"
   ]
  },
  {
   "cell_type": "code",
   "execution_count": 26,
   "id": "5dceb024",
   "metadata": {},
   "outputs": [
    {
     "name": "stdout",
     "output_type": "stream",
     "text": [
      "                                trayek  jumlah_penumpang\n",
      "5                        Blok M - Kota          10079752\n",
      "75                Pinang Ranti - Pluit           7694406\n",
      "34              Kalideres - Pasar Baru           5250726\n",
      "59               Lebak Bulus - Harmoni           5122397\n",
      "37              Kampung Melayu - Ancol           4902814\n",
      "46   Kampung Rambutan - Kampung Melayu           4372447\n",
      "125              Tanjung Priok - PGC 2           4262272\n",
      "90              Ragunan - Dukuh Atas 2           3996604\n",
      "81             Pulo Gadung 1 - Harmoni           3836531\n",
      "11                   Ciledug - Tendean           3337261\n"
     ]
    }
   ],
   "source": [
    "result = all_data.groupby('trayek')['jumlah_penumpang'].sum()\n",
    "result = result.reset_index()\n",
    "result = result.nlargest(10, 'jumlah_penumpang')\n",
    "print(result)"
   ]
  },
  {
   "cell_type": "code",
   "execution_count": 24,
   "id": "bf222d34",
   "metadata": {},
   "outputs": [
    {
     "data": {
      "image/png": "[encoded data removed]",
      "text/plain": [
       "<Figure size 700x400 with 1 Axes>"
      ]
     },
     "metadata": {},
     "output_type": "display_data"
    }
   ],
   "source": [
    "plt.figure(figsize=(7, 4))  # Ukuran plot (opsional)\n",
    "\n",
    "# Buat plot dengan x sebagai kode_trayek dan y sebagai jumlah_penumpang\n",
    "plt.barh(result['trayek'], result['jumlah_penumpang'])\n",
    "    \n",
    "# Atur label dan judul plot\n",
    "plt.xlabel('Jumlah Penumpang (Juta)')\n",
    "plt.ylabel('Trayek (Rute)')\n",
    "plt.title('Rute dengan Penumpang terbanyak per Kode Trayek')\n",
    "# Tampilkan plot\n",
    "plt.show()"
   ]
  },
  {
   "cell_type": "code",
   "execution_count": 23,
   "id": "9c829168",
   "metadata": {},
   "outputs": [
    {
     "data": {
      "image/png": "[encoded data removed]",
      "text/plain": [
       "<Figure size 800x500 with 1 Axes>"
      ]
     },
     "metadata": {},
     "output_type": "display_data"
    }
   ],
   "source": [
    "total_penumpang_per_month = all_data.groupby(all_data['bulan'])['jumlah_penumpang'].sum()\n",
    "plt.figure(figsize=(8, 5))\n",
    "plt.plot(total_penumpang_per_month.index, total_penumpang_per_month.values, marker='o', linestyle='-')\n",
    "plt.xlabel('Bulan')\n",
    "plt.ylabel('Jumlah Penumpang (Juta)')\n",
    "plt.title('Jumlah Penumpang tiap Bulan')\n",
    "plt.xticks(total_penumpang_per_month.index)\n",
    "plt.grid(True)\n",
    "plt.show()"
   ]
  },
  {
   "cell_type": "code",
   "execution_count": 38,
   "id": "dd440726",
   "metadata": {},
   "outputs": [
    {
     "data": {
      "text/html": [
       "<div>\n",
       "<style scoped>\n",
       "    .dataframe tbody tr th:only-of-type {\n",
       "        vertical-align: middle;\n",
       "    }\n",
       "\n",
       "    .dataframe tbody tr th {\n",
       "        vertical-align: top;\n",
       "    }\n",
       "\n",
       "    .dataframe thead th {\n",
       "        text-align: right;\n",
       "    }\n",
       "</style>\n",
       "<table border=\"1\" class=\"dataframe\">\n",
       "  <thead>\n",
       "    <tr style=\"text-align: right;\">\n",
       "      <th></th>\n",
       "      <th>jenis</th>\n",
       "      <th>jumlah_penumpang</th>\n",
       "    </tr>\n",
       "  </thead>\n",
       "  <tbody>\n",
       "    <tr>\n",
       "      <th>0</th>\n",
       "      <td>Angkutan Umum Integrasi</td>\n",
       "      <td>11281390</td>\n",
       "    </tr>\n",
       "    <tr>\n",
       "      <th>1</th>\n",
       "      <td>BRT</td>\n",
       "      <td>59111356</td>\n",
       "    </tr>\n",
       "    <tr>\n",
       "      <th>2</th>\n",
       "      <td>Mikrotrans</td>\n",
       "      <td>49915801</td>\n",
       "    </tr>\n",
       "  </tbody>\n",
       "</table>\n",
       "</div>"
      ],
      "text/plain": [
       "                     jenis  jumlah_penumpang\n",
       "0  Angkutan Umum Integrasi          11281390\n",
       "1                      BRT          59111356\n",
       "2               Mikrotrans          49915801"
      ]
     },
     "execution_count": 38,
     "metadata": {},
     "output_type": "execute_result"
    }
   ],
   "source": [
    "penumpang_by_jenis = all_data.groupby('jenis')['jumlah_penumpang'].sum().reset_index()\n",
    "penumpang_by_jenis"
   ]
  },
  {
   "cell_type": "code",
   "execution_count": 36,
   "id": "2ece6b34",
   "metadata": {},
   "outputs": [
    {
     "data": {
      "image/png": "[encoded data removed]",
      "text/plain": [
       "<Figure size 700x400 with 1 Axes>"
      ]
     },
     "metadata": {},
     "output_type": "display_data"
    }
   ],
   "source": [
    "plt.figure(figsize=(7, 4))  # Ukuran plot (opsional)\n",
    "\n",
    "# Buat plot dengan x sebagai kode_trayek dan y sebagai jumlah_penumpang\n",
    "plt.bar(penumpang_by_jenis['jenis'], penumpang_by_jenis['jumlah_penumpang'])\n",
    "    \n",
    "# Atur label dan judul plot\n",
    "plt.xlabel('Jenis Bus')\n",
    "plt.ylabel('Jumlah Penumpang')\n",
    "plt.title('Jumlah penumpang berdasarkan jenis bus')\n",
    "# Tampilkan plot\n",
    "plt.show()"
   ]
  },
  {
   "cell_type": "code",
   "execution_count": 40,
   "id": "846bd292",
   "metadata": {},
   "outputs": [
    {
     "data": {
      "text/plain": [
       "bulan\n",
       "8      3\n",
       "9      3\n",
       "10     3\n",
       "11     3\n",
       "12    35\n",
       "Name: kode_trayek, dtype: int64"
      ]
     },
     "execution_count": 40,
     "metadata": {},
     "output_type": "execute_result"
    }
   ],
   "source": [
    "zero_penumpang = all_data[all_data['jumlah_penumpang'] == 0]\n",
    "count_bis_zero_penumpang_per_month = zero_penumpang.groupby(zero_penumpang['bulan'])['kode_trayek'].nunique()\n",
    "count_bis_zero_penumpang_per_month"
   ]
  },
  {
   "cell_type": "code",
   "execution_count": 41,
   "id": "b236f6ad",
   "metadata": {},
   "outputs": [
    {
     "data": {
      "image/png": "[encoded data removed]",
      "text/plain": [
       "<Figure size 700x400 with 1 Axes>"
      ]
     },
     "metadata": {},
     "output_type": "display_data"
    }
   ],
   "source": [
    "plt.figure(figsize=(7, 4))\n",
    "plt.plot(count_bis_zero_penumpang_per_month.index, count_bis_zero_penumpang_per_month.values, marker='o', linestyle='-')\n",
    "plt.xlabel('Bulan')\n",
    "plt.ylabel('Banyak Trayek')\n",
    "plt.title('Trayek Bis dengan penumpang 0')\n",
    "plt.xticks(count_bis_zero_penumpang_per_month.index)\n",
    "plt.grid(True)\n",
    "plt.show()"
   ]
  },
  {
   "cell_type": "code",
   "execution_count": 16,
   "id": "87704163",
   "metadata": {},
   "outputs": [
    {
     "data": {
      "text/plain": [
       "25.925925925925924"
      ]
     },
     "execution_count": 16,
     "metadata": {},
     "output_type": "execute_result"
    }
   ],
   "source": [
    "total_rute_keseluruhan = all_data['kode_trayek'].nunique()\n",
    "total_rute_0_penumpang = zero_penumpang['kode_trayek'].nunique()\n",
    "persentase_rute_0_penumpang = (total_rute_0_penumpang / total_rute_keseluruhan) * 100\n",
    "persentase_rute_0_penumpang"
   ]
  },
  {
   "cell_type": "code",
   "execution_count": 7,
   "id": "b65be771",
   "metadata": {},
   "outputs": [
    {
     "data": {
      "text/html": [
       "<div>\n",
       "<style scoped>\n",
       "    .dataframe tbody tr th:only-of-type {\n",
       "        vertical-align: middle;\n",
       "    }\n",
       "\n",
       "    .dataframe tbody tr th {\n",
       "        vertical-align: top;\n",
       "    }\n",
       "\n",
       "    .dataframe thead th {\n",
       "        text-align: right;\n",
       "    }\n",
       "</style>\n",
       "<table border=\"1\" class=\"dataframe\">\n",
       "  <thead>\n",
       "    <tr style=\"text-align: right;\">\n",
       "      <th></th>\n",
       "      <th>kode_trayek</th>\n",
       "      <th>jumlah_penumpang</th>\n",
       "    </tr>\n",
       "  </thead>\n",
       "  <tbody>\n",
       "    <tr>\n",
       "      <th>0</th>\n",
       "      <td>1</td>\n",
       "      <td>10079752</td>\n",
       "    </tr>\n",
       "    <tr>\n",
       "      <th>1</th>\n",
       "      <td>10</td>\n",
       "      <td>4262272</td>\n",
       "    </tr>\n",
       "    <tr>\n",
       "      <th>2</th>\n",
       "      <td>10K</td>\n",
       "      <td>363490</td>\n",
       "    </tr>\n",
       "    <tr>\n",
       "      <th>3</th>\n",
       "      <td>11</td>\n",
       "      <td>1603385</td>\n",
       "    </tr>\n",
       "    <tr>\n",
       "      <th>4</th>\n",
       "      <td>11D</td>\n",
       "      <td>560742</td>\n",
       "    </tr>\n",
       "    <tr>\n",
       "      <th>...</th>\n",
       "      <td>...</td>\n",
       "      <td>...</td>\n",
       "    </tr>\n",
       "    <tr>\n",
       "      <th>130</th>\n",
       "      <td>JAK.77</td>\n",
       "      <td>77697</td>\n",
       "    </tr>\n",
       "    <tr>\n",
       "      <th>131</th>\n",
       "      <td>JAK.80</td>\n",
       "      <td>724712</td>\n",
       "    </tr>\n",
       "    <tr>\n",
       "      <th>132</th>\n",
       "      <td>JAK.84</td>\n",
       "      <td>481820</td>\n",
       "    </tr>\n",
       "    <tr>\n",
       "      <th>133</th>\n",
       "      <td>JAK.85</td>\n",
       "      <td>334063</td>\n",
       "    </tr>\n",
       "    <tr>\n",
       "      <th>134</th>\n",
       "      <td>JAK.88</td>\n",
       "      <td>332037</td>\n",
       "    </tr>\n",
       "  </tbody>\n",
       "</table>\n",
       "<p>135 rows × 2 columns</p>\n",
       "</div>"
      ],
      "text/plain": [
       "    kode_trayek  jumlah_penumpang\n",
       "0             1          10079752\n",
       "1            10           4262272\n",
       "2           10K            363490\n",
       "3            11           1603385\n",
       "4           11D            560742\n",
       "..          ...               ...\n",
       "130      JAK.77             77697\n",
       "131      JAK.80            724712\n",
       "132      JAK.84            481820\n",
       "133      JAK.85            334063\n",
       "134      JAK.88            332037\n",
       "\n",
       "[135 rows x 2 columns]"
      ]
     },
     "execution_count": 7,
     "metadata": {},
     "output_type": "execute_result"
    }
   ],
   "source": [
    "penumpang_banyak = all_data.groupby('kode_trayek')['jumlah_penumpang'].sum()\n",
    "penumpang_banyak = penumpang_banyak.reset_index()\n",
    "penumpang_banyak"
   ]
  },
  {
   "cell_type": "code",
   "execution_count": 9,
   "id": "4d6866e9",
   "metadata": {},
   "outputs": [],
   "source": [
    "count_greater_than_100000 = (penumpang_banyak['jumlah_penumpang'] > 100000).sum()\n",
    "count_greater_than_100000\n",
    "count_less_than_100000 = 135 - count_greater_than_100000"
   ]
  },
  {
   "cell_type": "code",
   "execution_count": 12,
   "id": "a8c09dbe",
   "metadata": {},
   "outputs": [
    {
     "data": {
      "image/png": "[encoded data removed]",
      "text/plain": [
       "<Figure size 640x480 with 1 Axes>"
      ]
     },
     "metadata": {},
     "output_type": "display_data"
    }
   ],
   "source": [
    "categories = ['Penumpang > 100.000', 'others']\n",
    "percentages = [count_greater_than_100000, count_less_than_100000]\n",
    "\n",
    "plt.pie(percentages, labels=categories, autopct='%1.1f%%', startangle=90)\n",
    "\n",
    "# Menambahkan judul\n",
    "plt.title('Trayek')\n",
    "\n",
    "# Menampilkan pie chart\n",
    "plt.show()"
   ]
  },
  {
   "cell_type": "markdown",
   "id": "a7df8e3a",
   "metadata": {},
   "source": [
    "## Interprate"
   ]
  },
  {
   "cell_type": "markdown",
   "id": "bcf38fb7",
   "metadata": {},
   "source": [
    "### 1. Jumlah keseluruhan penumpang TransJakarta di tahun 2021 adalah 120.308.547, dengan total rute yang beroprasi sebanyak 135 rute\n",
    "### 2. Rata - rata penumpang setiap bulannya adalah 10.025.712,25\n",
    "### 3. Rute penumpang terbanyak adalah jurusan Blok M - Kota dengan jumlah penumpang sebanyak 10.079.752\n",
    "### 4. Sekitar 86.7% trayek yang beroprasi di tahun 2021 jumlah penumpangnya lebih dari 100.000\n",
    "### 5. Jumlah penumpang terbanyak terjadi pada bulan november\n",
    "### 6. Terdapat trayek yang memiliki jumlah penumpang 0 (3 trayek pada bulan agustus, september, oktober, november, dan 35 trayek pada bulan desember)\n",
    "### 7. Bus jenis BRT menjadi jenis bus yang paling banyak jumlah penumpangnya (mungkin karena bus jenis BRT mempunyai kapasitas yang lebih besar dari jenis bus lainnya)."
   ]
  }
 ],
 "metadata": {
  "kernelspec": {
   "display_name": "Python 3 (ipykernel)",
   "language": "python",
   "name": "python3"
  },
  "language_info": {
   "codemirror_mode": {
    "name": "ipython",
    "version": 3
   },
   "file_extension": ".py",
   "mimetype": "text/x-python",
   "name": "python",
   "nbconvert_exporter": "python",
   "pygments_lexer": "ipython3",
   "version": "3.9.7"
  }
 },
 "nbformat": 4,
 "nbformat_minor": 5
}
